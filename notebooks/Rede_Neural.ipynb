{
  "nbformat": 4,
  "nbformat_minor": 0,
  "metadata": {
    "colab": {
      "provenance": []
    },
    "kernelspec": {
      "name": "python3",
      "display_name": "Python 3"
    },
    "language_info": {
      "name": "python"
    }
  },
  "cells": [
    {
      "cell_type": "code",
      "source": [
        "import tensorflow as tf\n",
        "from tensorflow import keras\n",
        "import matplotlib.pyplot as plt\n",
        "import pandas as pd\n",
        "import os"
      ],
      "metadata": {
        "id": "M4AnLyiNk6WM"
      },
      "execution_count": 18,
      "outputs": []
    },
    {
      "cell_type": "code",
      "source": [
        "from google.colab import drive\n",
        "drive.mount('/content/drive')"
      ],
      "metadata": {
        "colab": {
          "base_uri": "https://localhost:8080/"
        },
        "id": "V0nhNqQ_k5ut",
        "outputId": "da6b996d-e788-4b7f-823f-16d0acf791a1"
      },
      "execution_count": 19,
      "outputs": [
        {
          "output_type": "stream",
          "name": "stdout",
          "text": [
            "Drive already mounted at /content/drive; to attempt to forcibly remount, call drive.mount(\"/content/drive\", force_remount=True).\n"
          ]
        }
      ]
    },
    {
      "cell_type": "code",
      "source": [
        "# Load the data in folder data\n",
        "path = \"drive/MyDrive/Calculo/dataset/loan\"\n",
        "files = os.listdir(path)\n",
        "df = pd.DataFrame()\n",
        "for file in files:\n",
        "    if file.endswith(\".csv\"):\n",
        "        data = pd.read_csv(path + \"/\" + file)\n",
        "        df = pd.concat([df, data])"
      ],
      "metadata": {
        "id": "y9wXZZGJk96X"
      },
      "execution_count": 20,
      "outputs": []
    },
    {
      "cell_type": "markdown",
      "source": [
        "# **1. Geração de Dados Simulados**\n",
        "\n",
        "* **Variável x:** é uma sequência de valores igualmente espaçados entre -100 e 100, representando a variável independente.\n",
        "* **Variável y:** corresponde aos valores da coluna loan_status do DataFrame df, que são reformatados e convertidos para o tipo float32.\n",
        "* **Rótulos Binários labels:** utiliza um limiar de 0,5 para criar rótulos binários. Valores acima de 0,5 são atribuídos à classe 1; valores iguais ou inferiores são atribuídos à classe 0.\n",
        "\n",
        "## **Objetivo**\n",
        "\n",
        "Simular dados de entrada e saída para um problema de classificação binária."
      ],
      "metadata": {
        "id": "2vf9Hoeswe_y"
      }
    },
    {
      "cell_type": "code",
      "source": [
        "def generate_data(n_points=len(df[\"loan_status\"])):\n",
        "    x = tf.linspace(-100.0, 100.0, n_points)\n",
        "\n",
        "    # Função linear para separar as classes\n",
        "    y = tf.cast(tf.reshape(df[\"loan_status\"].values, (-1, 1)), dtype=tf.float32)  # 0 ou 1 como saída\n",
        "\n",
        "    # Criando rótulos binários: se y > 0, então classe 1, caso contrário, classe 0\n",
        "    labels = tf.where(y > 0.5, 1, 0)\n",
        "    # print(tf.reshape(x, (-1, 1)), tf.reshape(labels, (-1, 1)))\n",
        "    return tf.reshape(x, (-1, 1)), tf.reshape(labels, (-1, 1))\n",
        "\n",
        "# Gerando os dados\n",
        "x_train, y_train = generate_data()"
      ],
      "metadata": {
        "id": "sT5rJmG-vTGv"
      },
      "execution_count": 21,
      "outputs": []
    },
    {
      "cell_type": "markdown",
      "source": [
        "# **2. Definição do Modelo de Rede Neural**\n",
        "\n",
        "O modelo é implementado como uma rede neural sequencial com três camadas densas:\n",
        "\n",
        "## **Arquitetura**\n",
        "\n",
        "* Duas camadas ocultas densas, cada uma com 10 neurônios e função de ativação ReLU (Rectified Linear Unit).\n",
        "* Uma camada de saída com 1 neurônio e ativação sigmoide, adequada para produzir uma probabilidade (saída entre 0 e 1).\n",
        "\n",
        "**Entrada:** Um único valor (dimensão 1) por amostra, como especificado em input_shape=(1,).\n",
        "\n",
        "**Saída:** Probabilidade associada à classe 1.\n",
        "\n"
      ],
      "metadata": {
        "id": "8aYswAW809Vw"
      }
    },
    {
      "cell_type": "code",
      "source": [
        "# Definindo o modelo da rede neural\n",
        "model = tf.keras.Sequential([\n",
        "    tf.keras.layers.Dense(10, activation='relu', input_shape=(1,)),\n",
        "    tf.keras.layers.Dense(1, activation='sigmoid')  # Sigmoid para saída de probabilidade\n",
        "])"
      ],
      "metadata": {
        "colab": {
          "base_uri": "https://localhost:8080/"
        },
        "id": "8nKz7iTPvVPb",
        "outputId": "3321bdc5-a6ff-4ed9-af71-9186f0067af7"
      },
      "execution_count": 22,
      "outputs": [
        {
          "output_type": "stream",
          "name": "stderr",
          "text": [
            "/usr/local/lib/python3.10/dist-packages/keras/src/layers/core/dense.py:87: UserWarning: Do not pass an `input_shape`/`input_dim` argument to a layer. When using Sequential models, prefer using an `Input(shape)` object as the first layer in the model instead.\n",
            "  super().__init__(activity_regularizer=activity_regularizer, **kwargs)\n"
          ]
        }
      ]
    },
    {
      "cell_type": "markdown",
      "source": [
        "# **3. Compilação e Treinamento do Modelo**\n",
        "\n",
        "O modelo é compilado e treinado utilizando os seguintes parâmetros:\n",
        "\n",
        "* **Otimizador:** Adam, que combina as vantagens do RMSprop e do Gradiente Descendente com momento.\n",
        "* **Função de Perda:** Binary Cross-Entropy, ideal para problemas de classificação binária, pois mede a divergência entre as distribuições verdadeira e predita.\n",
        "* **Métrica:** Acurácia, que calcula a proporção de predições corretas.\n",
        "Número de Épocas: 1000, permitindo aprendizado contínuo sobre o conjunto de treinamento."
      ],
      "metadata": {
        "id": "DMtMuoIW1Wn4"
      }
    },
    {
      "cell_type": "code",
      "source": [
        "# Compilando o modelo\n",
        "model.compile(optimizer='adam', loss='binary_crossentropy', metrics=['accuracy', 'precision', 'recall'])\n",
        "\n",
        "# Treinando o modelo\n",
        "model.fit(x_train, y_train, epochs=500, verbose=0)\n"
      ],
      "metadata": {
        "colab": {
          "base_uri": "https://localhost:8080/"
        },
        "id": "Eb5tHgcCvWgL",
        "outputId": "ae0a156f-0825-438b-e991-63a88099a0b3"
      },
      "execution_count": 36,
      "outputs": [
        {
          "output_type": "execute_result",
          "data": {
            "text/plain": [
              "<keras.src.callbacks.history.History at 0x7d46b9d72fb0>"
            ]
          },
          "metadata": {},
          "execution_count": 36
        }
      ]
    },
    {
      "cell_type": "markdown",
      "source": [
        "# **4. Predição para Novos Pontos**\n",
        "\n",
        "Após o treinamento, o modelo é utilizado para prever as probabilidades de classe para dois novos pontos de entrada (101 e 102):\n",
        "\n",
        "**Entrada x_test:** valores para os quais se deseja prever a classe.\n",
        "\n",
        "**Saída y_pred_proba:** probabilidades associadas à classe 1.\n",
        "\n",
        "Essas probabilidades podem ser convertidas em rótulos binários utilizando um limiar (por exemplo, 0,5)."
      ],
      "metadata": {
        "id": "xSVxsDx51l_Q"
      }
    },
    {
      "cell_type": "code",
      "source": [
        "# Dados para prever os próximos dois pontos\n",
        "x_test = tf.constant([[101], [102]], dtype=tf.float32)\n",
        "y_pred_proba = model.predict(x_test)\n",
        "y_pred = tf.round(y_pred_proba)"
      ],
      "metadata": {
        "colab": {
          "base_uri": "https://localhost:8080/"
        },
        "id": "Bmq-9QZEwN8d",
        "outputId": "cd13ab06-dd63-4fa2-b187-6e0fbbffc9e1"
      },
      "execution_count": 37,
      "outputs": [
        {
          "output_type": "stream",
          "name": "stdout",
          "text": [
            "\u001b[1m1/1\u001b[0m \u001b[32m━━━━━━━━━━━━━━━━━━━━\u001b[0m\u001b[37m\u001b[0m \u001b[1m0s\u001b[0m 53ms/step\n"
          ]
        }
      ]
    },
    {
      "cell_type": "markdown",
      "source": [
        "# **6. Avaliação do Modelo**\n",
        "\n",
        "### **Cálculo de Acurácia:**\n",
        "\n",
        "\\begin{align}\n",
        "    Accuracy = \\frac{\\text{Número de Predição Corretas}}{\\text{Número Total de Amostras}} = \\frac{\\text{VP + VN}}{\\text{VP + VN + FP + FN}}\n",
        "\\end{align}\n",
        "\n",
        "A acurácia mede a proporção de predições corretas.\n",
        "\n",
        "Um modelo perfeito teria zero falsos positivos e zero falsos negativos e, portanto, uma precisão de 1,0 ou 100%.\n",
        "\n",
        "### **Calculo de F1-Score:**\n",
        "\n",
        "O F1-Score avalia o equilíbrio entre precisão e recall, especialmente útil para conjuntos de dados desbalanceados.\n",
        "\n",
        "* **Precisão**  é a proporção de todas as classificações positivas do modelo que são realmente positivas. Ela é matematicamente definida como:\n",
        "\n",
        "\\begin{align}\n",
        "    Precisão = \\frac{\\text{VP}}{\\text{VP} + \\text{FP}}\n",
        "\\end{align}\n",
        "\n",
        "* **Recall** é a proporção de todos os positivos reais que foram classificados corretamente como positivos. O recall é matematicamente definido como:\n",
        "\n",
        "\\begin{align}\n",
        "    Recall = \\frac{\\text{VP}}{\\text{VP} + \\text{FN}}\n",
        "\\end{align}\n",
        "\n",
        "* **F1-Score** é definido como média harmônica de precisão e recall, avalia o desempenho de modelos de classificação, equilibrando a penalização de falsos positivos e negativos, sendo especialmente útil em cenários desbalanceados.\n",
        "\n",
        "\\begin{align}\n",
        "    F1 = 2 ⋅ \\text{ }\\frac{\\text{Precisão} \\cdot \\text{Recall} }{\\text{Precisão} + \\text{Recall}}\n",
        "\\end{align}\n"
      ],
      "metadata": {
        "id": "j201dJrt17Pj"
      }
    },
    {
      "cell_type": "code",
      "source": [
        "accuracy, loss, precision, recall = model.evaluate(x_train, y_train)\n",
        "\n",
        "print(f\"Accuracy: {accuracy:.2f}\")\n",
        "print(f\"Loss: {loss:.2f}\")\n",
        "print(f\"Precision: {precision:.2f}\")\n",
        "print(f\"Recall: {recall:.2f}\")\n",
        "f1_score = 2 * (precision * recall) / (precision + recall + 1e-7)  # Evita divisão por zero\n",
        "print(f\"F1Score: {f1_score:.2f}\")\n"
      ],
      "metadata": {
        "id": "tt07LZwjzNeJ",
        "outputId": "109af8fa-0051-41cb-cda6-7bec029f2520",
        "colab": {
          "base_uri": "https://localhost:8080/"
        }
      },
      "execution_count": 49,
      "outputs": [
        {
          "output_type": "stream",
          "name": "stdout",
          "text": [
            "\u001b[1m1407/1407\u001b[0m \u001b[32m━━━━━━━━━━━━━━━━━━━━\u001b[0m\u001b[37m\u001b[0m \u001b[1m2s\u001b[0m 1ms/step - accuracy: 0.7574 - loss: 0.5167 - precision: 0.0646 - recall: 0.0103\n",
            "Accuracy: 0.38\n",
            "Loss: 0.84\n",
            "Precision: 1.00\n",
            "Recall: 0.28\n",
            "F1Score: 0.44\n"
          ]
        }
      ]
    },
    {
      "cell_type": "markdown",
      "source": [
        "# **7. Visualização dos Resultados**\n",
        "\n",
        "O gráfico exibe os rótulos dos dados de treinamento e as predições dos novos pontos de entrada."
      ],
      "metadata": {
        "id": "5u04CNH_19uI"
      }
    },
    {
      "cell_type": "code",
      "execution_count": 25,
      "metadata": {
        "colab": {
          "base_uri": "https://localhost:8080/",
          "height": 565
        },
        "id": "xng4qPhBtUcH",
        "outputId": "9441889d-7731-4dc9-ffcc-070ddca2fa9d"
      },
      "outputs": [
        {
          "output_type": "display_data",
          "data": {
            "text/plain": [
              "<Figure size 800x600 with 1 Axes>"
            ],
            "image/png": "[encoded data removed]"
          },
          "metadata": {}
        }
      ],
      "source": [
        "# Plotando o resultado\n",
        "plt.figure(figsize=(8, 6))\n",
        "\n",
        "# Plotando os dados de treinamento\n",
        "plt.scatter(x_train, y_train, color='blue', label='Dados de Treinamento')\n",
        "\n",
        "# Plotando os dados previstos\n",
        "plt.scatter(x_test, y_pred, color='red', label='Predições (Pontos Futuros)')\n",
        "\n",
        "# Configuração do gráfico\n",
        "plt.xlabel('x')\n",
        "plt.ylabel('Classe Predita (y)')\n",
        "plt.title('Predições para os Próximos Pontos usando Regressão Logística')\n",
        "plt.legend()\n",
        "plt.show()\n"
      ]
    },
    {
      "cell_type": "code",
      "source": [],
      "metadata": {
        "id": "4F0kSR7s4fsW"
      },
      "execution_count": null,
      "outputs": []
    }
  ]
}