{
  "nbformat": 4,
  "nbformat_minor": 0,
  "metadata": {
    "colab": {
      "provenance": []
    },
    "kernelspec": {
      "name": "python3",
      "display_name": "Python 3"
    },
    "language_info": {
      "name": "python"
    }
  },
  "cells": [
    {
      "cell_type": "code",
      "source": [
        "import tensorflow as tf\n",
        "from tensorflow import keras\n",
        "import matplotlib.pyplot as plt\n",
        "import pandas as pd\n",
        "import os"
      ],
      "metadata": {
        "id": "gXQSu3We2tOl"
      },
      "execution_count": 7,
      "outputs": []
    },
    {
      "cell_type": "code",
      "source": [
        "from google.colab import drive\n",
        "drive.mount('/content/drive')"
      ],
      "metadata": {
        "colab": {
          "base_uri": "https://localhost:8080/"
        },
        "id": "0kbGZnNv1KJd",
        "outputId": "76136ed3-44a4-4056-f39c-1c2693ebc3a7"
      },
      "execution_count": 3,
      "outputs": [
        {
          "output_type": "stream",
          "name": "stdout",
          "text": [
            "Mounted at /content/drive\n"
          ]
        }
      ]
    },
    {
      "cell_type": "code",
      "source": [
        "# Load the data in folder data\n",
        "path = \"drive/MyDrive/Calculo/dataset/loan\"\n",
        "files = os.listdir(path)\n",
        "df = pd.DataFrame()\n",
        "for file in files:\n",
        "    if file.endswith(\".csv\"):\n",
        "        data = pd.read_csv(path + \"/\" + file)\n",
        "        df = pd.concat([df, data])"
      ],
      "metadata": {
        "id": "Osj5V5ET1deg"
      },
      "execution_count": 4,
      "outputs": []
    },
    {
      "cell_type": "markdown",
      "source": [
        "# 1. Geração de **Dados**\n",
        "\n",
        "A função generate_logistic_data gera dados simulados para uma tarefa de classificação binária.\n",
        "Os valores de entrada (x) são distribuídos uniformemente no intervalo [-100,100].\n",
        "Os rótulos (y) são obtidos a partir do dataframe df (representando informações de status de empréstimos).\n",
        "\n",
        "`Um limiar de 0.5 é usado para categorizar os rótulos em duas classes: 0 e 1. Caso necessário.`\n",
        "\n",
        "## **Justificativa:**\n",
        "\n",
        "* Essa abordagem simula um cenário de classificação em que os rótulos derivam de um conjunto de dados existente.\n",
        "\n",
        "* A transformação de rótulos em binários é comum em tarefas de classificação logística."
      ],
      "metadata": {
        "id": "UJsUv3ppi8Gz"
      }
    },
    {
      "cell_type": "code",
      "source": [
        "# Função para gerar dados simulados para regressão logística simples\n",
        "def generate_logistic_data(n_points=len(df[\"loan_status\"])):\n",
        "    x = tf.linspace(-100.0, 100.0, n_points)\n",
        "\n",
        "    # Função linear para separar as classes\n",
        "    y = tf.cast(tf.reshape(df[\"loan_status\"].values, (-1, 1)), dtype=tf.float32)  # 0 ou 1 como saída\n",
        "\n",
        "    # Criando rótulos binários: se y > 0, então classe 1, caso contrário, classe 0\n",
        "    labels = tf.where(y > 0.5, 1, 0)\n",
        "    # print(tf.reshape(x, (-1, 1)), tf.reshape(labels, (-1, 1)))\n",
        "    return tf.reshape(x, (-1, 1)), tf.reshape(labels, (-1, 1))\n",
        "\n",
        "\n",
        "# Gerando os dados\n",
        "x, labels = generate_logistic_data()"
      ],
      "metadata": {
        "id": "bT_t2fxxihjb"
      },
      "execution_count": 8,
      "outputs": []
    },
    {
      "cell_type": "markdown",
      "source": [
        "# **2. Modelo de Regressão Logística**\n",
        "\n",
        "* A classe LogisticRegressionModel implementa o modelo de regressão logística.\n",
        "* Os pesos (w) e o bias (b) são inicializados como variáveis treináveis.\n",
        "* A operação z = w ⋅ x + b calcula os logits, os quais são transformados em probabilidades usando a função sigmoide.\n",
        "\n",
        "## **Justificativa:**\n",
        "\n",
        "O modelo simples reflete a formulação matemática da regressão logística:\n",
        "\n",
        "\\begin{align}\n",
        "P(Y = 1 | X) = σ(w ⋅ x + b), σ(z) \\frac{1}{1 + e^{-z}}\n",
        "    \\end{align}"
      ],
      "metadata": {
        "id": "MyQN76HOjoOl"
      }
    },
    {
      "cell_type": "code",
      "source": [
        "class LogisticRegressionModel(tf.Module):\n",
        "    def __init__(self):\n",
        "        # Inicializando pesos e bias\n",
        "        self.weights = tf.Variable(tf.random.normal(shape=(1, 1)), dtype=tf.float32)\n",
        "        self.bias = tf.Variable(tf.random.normal(shape=(1,)), dtype=tf.float32)\n",
        "\n",
        "    def __call__(self, x):\n",
        "        logits = tf.matmul(x, self.weights) + self.bias\n",
        "        return tf.sigmoid(logits)"
      ],
      "metadata": {
        "id": "lboOLPOFikvZ"
      },
      "execution_count": 9,
      "outputs": []
    },
    {
      "cell_type": "markdown",
      "source": [
        "# **3. Função de Custo**\n",
        "\n",
        "* A função calcula o erro da entropia cruzada binária (Binary Cross-Entropy, BCE).\n",
        "\n",
        "* Esta métrica compara as probabilidades preditas pelo modelo com os rótulos reais.\n",
        "\n",
        "## **Justificativa**\n",
        "A BCE é amplamente utilizada em problemas de classificação binária, pois maximiza a probabilidade logarítmica dos dados observados."
      ],
      "metadata": {
        "id": "gcWj2G-kmEE1"
      }
    },
    {
      "cell_type": "code",
      "source": [
        "# Função de custo (Binary Cross-Entropy)\n",
        "def loss_fn(model, x, labels):\n",
        "    predictions = model(x)\n",
        "    return tf.reduce_mean(tf.keras.losses.binary_crossentropy(labels, predictions))"
      ],
      "metadata": {
        "id": "8XGNJzAzimuJ"
      },
      "execution_count": 10,
      "outputs": []
    },
    {
      "cell_type": "markdown",
      "source": [
        "# **4. Processo de Treinamento**\n",
        "\n",
        "* A função train utiliza o otimizador Adam para ajustar os pesos e bias do modelo.\n",
        "* Em cada época, o gradiente da função de custo é calculado e aplicado para minimizar o erro.\n",
        "* A perda é monitorada a cada 100 épocas para avaliar a convergência.\n",
        "\n",
        "## **Justificativa**\n",
        "\n",
        "* O otimizador Adam adapta dinamicamente a taxa de aprendizado, acelerando a convergência.\n",
        "* O uso de gradientes automatizados simplifica a implementação de backpropagation."
      ],
      "metadata": {
        "id": "GH-vFeyPmT1p"
      }
    },
    {
      "cell_type": "code",
      "source": [
        "# Treinando o modelo\n",
        "def train(model, x, labels, epochs=3000, learning_rate=0.00001):\n",
        "    optimizer = tf.optimizers.Adam(learning_rate=learning_rate)\n",
        "    for epoch in range(epochs):\n",
        "        with tf.GradientTape() as tape:\n",
        "            loss = loss_fn(model, x, labels)\n",
        "        gradients = tape.gradient(loss, [model.weights, model.bias])\n",
        "        optimizer.apply_gradients(zip(gradients, [model.weights, model.bias]))\n",
        "        if epoch % 100 == 0:\n",
        "            print(f\"Epoch {epoch}, Loss: {loss.numpy():.4f}\")"
      ],
      "metadata": {
        "id": "G--tv0tJioN_"
      },
      "execution_count": 16,
      "outputs": []
    },
    {
      "cell_type": "markdown",
      "source": [
        "# **5. Avaliação do Modelo**\n",
        "\n",
        "A avaliação considera:\n",
        "\n",
        "* **Acurácia:** proporção de predições corretas.\n",
        "* **F1-Score:** medida que combina precisão e recall para avaliar o desempenho em classes desbalanceadas.\n"
      ],
      "metadata": {
        "id": "wgobY1pmmj6m"
      }
    },
    {
      "cell_type": "code",
      "source": [
        "def evaluate_model(model, x, labels):\n",
        "    predictions = model(x)\n",
        "    binary_predictions = tf.round(predictions)\n",
        "\n",
        "    # Cálculo da acurácia usando a métrica do Keras\n",
        "    accuracy = tf.keras.metrics.Accuracy()(labels, binary_predictions)\n",
        "\n",
        "    # Cálculo do F1-Score usando a métrica do Keras\n",
        "    metricF1 = keras.metrics.F1Score(threshold=0.5)\n",
        "    metricF1.update_state(labels, binary_predictions)\n",
        "    f1_score = metricF1.result()\n",
        "\n",
        "    return accuracy, f1_score"
      ],
      "metadata": {
        "id": "ojpGPhINix96"
      },
      "execution_count": 13,
      "outputs": []
    },
    {
      "cell_type": "markdown",
      "source": [
        "# **6. Instanciando o modelo, treinando e avaliando**\n",
        "\n",
        "Executa todas as funções necessárias para rodar o modelo."
      ],
      "metadata": {
        "id": "daKPFa08m66G"
      }
    },
    {
      "cell_type": "code",
      "source": [
        "# Instanciando o modelo e treinando\n",
        "model = LogisticRegressionModel()\n",
        "train(model, x, labels)\n",
        "\n",
        "# Avaliando o modelo\n",
        "accuracy, f1 = evaluate_model(model, x, labels)\n"
      ],
      "metadata": {
        "colab": {
          "base_uri": "https://localhost:8080/"
        },
        "id": "qzT0ENwsi0ZS",
        "outputId": "1c46f64e-536e-403a-abd7-26cee6379dfe"
      },
      "execution_count": 20,
      "outputs": [
        {
          "output_type": "stream",
          "name": "stdout",
          "text": [
            "Epoch 0, Loss: 7.7230\n",
            "Epoch 100, Loss: 7.7227\n",
            "Epoch 200, Loss: 7.7225\n",
            "Epoch 300, Loss: 7.7222\n",
            "Epoch 400, Loss: 7.7219\n",
            "Epoch 500, Loss: 7.7216\n",
            "Epoch 600, Loss: 7.7213\n",
            "Epoch 700, Loss: 7.7210\n",
            "Epoch 800, Loss: 7.7208\n",
            "Epoch 900, Loss: 7.7205\n",
            "Epoch 1000, Loss: 7.7202\n",
            "Epoch 1100, Loss: 7.7199\n",
            "Epoch 1200, Loss: 7.7196\n",
            "Epoch 1300, Loss: 7.7193\n",
            "Epoch 1400, Loss: 7.7190\n",
            "Epoch 1500, Loss: 7.7187\n",
            "Epoch 1600, Loss: 7.7184\n",
            "Epoch 1700, Loss: 7.7182\n",
            "Epoch 1800, Loss: 7.7179\n",
            "Epoch 1900, Loss: 7.7176\n",
            "Epoch 2000, Loss: 7.7173\n",
            "Epoch 2100, Loss: 7.7169\n",
            "Epoch 2200, Loss: 7.7167\n",
            "Epoch 2300, Loss: 7.7164\n",
            "Epoch 2400, Loss: 7.7161\n",
            "Epoch 2500, Loss: 7.7158\n",
            "Epoch 2600, Loss: 7.7155\n",
            "Epoch 2700, Loss: 7.7152\n",
            "Epoch 2800, Loss: 7.7149\n",
            "Epoch 2900, Loss: 7.7146\n"
          ]
        }
      ]
    },
    {
      "cell_type": "markdown",
      "source": [
        "# **6. Visualização**\n",
        "\n",
        "O gráfico ilustra os dados de entrada (x, y) como pontos, enquanto a curva de predição representa a saída sigmoidal do modelo.\n",
        "\n",
        "Visualizações ajudam a interpretar a separação de classes e a curva de decisão."
      ],
      "metadata": {
        "id": "vygauV_anPlK"
      }
    },
    {
      "cell_type": "code",
      "source": [
        "# Plotando os resultados\n",
        "plt.figure(figsize=(10, 6))\n",
        "plt.scatter(x, labels, color='blue', label='Dados (classes)')\n",
        "plt.plot(x, model(x), color='red', linewidth=2, label='Regressão Logística (predição)')\n",
        "plt.xlabel(\"x\")\n",
        "plt.ylabel(\"Probabilidade de Classe 1\")\n",
        "plt.title(\"Regressão Logística Simples usando TensorFlow\")\n",
        "plt.legend()\n",
        "plt.grid(True)\n",
        "plt.show()\n"
      ],
      "metadata": {
        "colab": {
          "base_uri": "https://localhost:8080/",
          "height": 565
        },
        "id": "c1pbc-w-eLIH",
        "outputId": "b1270a90-47fd-4f74-898c-60d2ac145db9"
      },
      "execution_count": 21,
      "outputs": [
        {
          "output_type": "display_data",
          "data": {
            "text/plain": [
              "<Figure size 1000x600 with 1 Axes>"
            ],
            "image/png": "[encoded data removed]"
          },
          "metadata": {}
        }
      ]
    },
    {
      "cell_type": "code",
      "source": [
        "print(f\"Acurácia: {accuracy:.2f}\")\n",
        "print(f\"F1-Score: {f1.numpy()[0]:.2f}\")"
      ],
      "metadata": {
        "colab": {
          "base_uri": "https://localhost:8080/"
        },
        "id": "ceYdZTSHu7v5",
        "outputId": "f50f793e-0054-4be8-da8e-5b69a3156661"
      },
      "execution_count": 22,
      "outputs": [
        {
          "output_type": "stream",
          "name": "stdout",
          "text": [
            "Acurácia: 0.49\n",
            "F1-Score: 0.30\n"
          ]
        }
      ]
    }
  ]
}